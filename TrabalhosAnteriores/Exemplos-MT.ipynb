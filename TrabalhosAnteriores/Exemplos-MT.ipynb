{
 "cells": [
  {
   "cell_type": "markdown",
   "id": "aboriginal-dollar",
   "metadata": {},
   "source": [
    "#### IMPORTANDO BIBLIOTECAS"
   ]
  },
  {
   "cell_type": "code",
   "execution_count": 1,
   "id": "billion-ethernet",
   "metadata": {},
   "outputs": [],
   "source": [
    "#Importando Bibliotecas\n",
    "import re\n",
    "\n",
    "import nltk \n",
    "from nltk.stem import RSLPStemmer"
   ]
  },
  {
   "cell_type": "markdown",
   "id": "protected-crime",
   "metadata": {},
   "source": [
    "#### DEFINICAO DE FUNCOES"
   ]
  },
  {
   "cell_type": "code",
   "execution_count": 35,
   "id": "extensive-brunei",
   "metadata": {},
   "outputs": [],
   "source": [
    "#Funcao para tokenizar - separar as sentenças, identico ao sent_tokenize do nltk\n",
    "def Tokenize(sentence):\n",
    "    sentence = sentence.lower()\n",
    "    sentence = nltk.word_tokenize(sentence)\n",
    "    return sentence\n",
    "\n",
    "#Funcao para stemmingzar (tratar o radical da palavra, até a origem)\n",
    "def Stemming(sentence):\n",
    "    stemmer = RSLPStemmer()\n",
    "    phrase = []\n",
    "    for word in sentence:\n",
    "        phrase.append(stemmer.stem(word.lower()))\n",
    "    return phrase\n",
    "\n",
    "#Remover palavras que não são importantes para a contabilizaçao\n",
    "def RemoveStopWords(sentence):\n",
    "    stopwords = nltk.corpus.stopwords.words('portuguese')\n",
    "    phrase = []\n",
    "    for word in sentence:\n",
    "        if word not in stopwords:\n",
    "            phrase.append(word)\n",
    "    return phrase\n",
    "\n",
    "#Base de exemplos\n",
    "def Train():\n",
    "    training_data = []\n",
    "    training_data.append({\"classe\":\"amor\", \"frase\":\"Eu te amo\"})\n",
    "    training_data.append({\"classe\":\"amor\", \"frase\":\"Você é o amor da minha vida\"})\n",
    "    training_data.append({\"classe\":\"medo\", \"frase\":\"estou com medo\"})\n",
    "    training_data.append({\"classe\":\"medo\", \"frase\":\"tenho medo de fantasma\"})\n",
    "    print(\"%s frases incluidas\" % len(training_data))\n",
    "    return training_data\n",
    "\n",
    "#Base de exemplos\n",
    "def Learning(training_data):\n",
    "    corpus_words = {}\n",
    "    for data in training_data:\n",
    "        frase = data['frase']\n",
    "        frase = Tokenize(frase)\n",
    "        frase = Stemming(frase)\n",
    "        frase = RemoveStopWords(frase)\n",
    "        class_name = data['classe']\n",
    "        if class_name not in list(corpus_words.keys()):\n",
    "            corpus_words[class_name] = {}\n",
    "        for word in frase:\n",
    "            if word not in list(corpus_words[class_name].keys()):\n",
    "                corpus_words[class_name][word] = 1\n",
    "            else:\n",
    "                corpus_words[class_name][word] += 1\n",
    "    return corpus_words\n",
    "\n",
    "\n",
    "def calculate_class_score(sentence,class_name):\n",
    "    score = 0 \n",
    "    sentence = Tokenize(sentence)\n",
    "    sentence = Stemming(sentence)\n",
    "    for word in sentence:\n",
    "        if word in dados[class_name]:\n",
    "            score += dados[class_name][word]\n",
    "    return score"
   ]
  },
  {
   "cell_type": "code",
   "execution_count": 30,
   "id": "olive-planning",
   "metadata": {},
   "outputs": [],
   "source": [
    "texto = \"O_DET homem_N viu_V a_DET mulher_N de_PRP binóculos_N em _PRP a _DET montanha_N.\""
   ]
  },
  {
   "cell_type": "code",
   "execution_count": 34,
   "id": "capital-property",
   "metadata": {},
   "outputs": [
    {
     "name": "stdout",
     "output_type": "stream",
     "text": [
      "Identificando os verbos e substantivos:  ['homem_N', 'viu_V', 'mulher_N', 'binóculos_N', 'montanha_N']\n"
     ]
    }
   ],
   "source": [
    "#Definindo o padrão\n",
    "pattern = re.compile(\"[A-Za-z][a-z][a-záéíóúçâêôãõà]*_N|[A-Za-z][a-z][a-záéíóúçâêôãõà]*_V\") #Procura verbos e substantivos _V e _N\n",
    "\n",
    "#Imprime o resultado após buscar\n",
    "print('Identificando os verbos e substantivos: ',re.findall(pattern, texto))"
   ]
  },
  {
   "cell_type": "code",
   "execution_count": null,
   "id": "flying-youth",
   "metadata": {},
   "outputs": [],
   "source": [
    "#Testar quais são as palavras que são removidas\n",
    "stopwords = nltk.corpus.stopwords.words('portuguese')\n",
    "print(stopwords)"
   ]
  }
 ],
 "metadata": {
  "kernelspec": {
   "display_name": "Python 3",
   "language": "python",
   "name": "python3"
  },
  "language_info": {
   "codemirror_mode": {
    "name": "ipython",
    "version": 3
   },
   "file_extension": ".py",
   "mimetype": "text/x-python",
   "name": "python",
   "nbconvert_exporter": "python",
   "pygments_lexer": "ipython3",
   "version": "3.9.1"
  }
 },
 "nbformat": 4,
 "nbformat_minor": 5
}
